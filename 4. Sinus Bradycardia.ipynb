{
 "cells": [
  {
   "cell_type": "code",
   "execution_count": 3,
   "metadata": {},
   "outputs": [
    {
     "name": "stdout",
     "output_type": "stream",
     "text": [
      "Requirement already satisfied: wfdb in c:\\users\\bjorn-josteinsingsta\\anaconda3\\lib\\site-packages (2.2.1)\n",
      "Requirement already satisfied: pandas>=0.19.1 in c:\\users\\bjorn-josteinsingsta\\anaconda3\\lib\\site-packages (from wfdb) (0.23.4)\n",
      "Requirement already satisfied: numpy>=1.11.0 in c:\\users\\bjorn-josteinsingsta\\anaconda3\\lib\\site-packages (from wfdb) (1.15.4)\n",
      "Requirement already satisfied: requests>=2.10.0 in c:\\users\\bjorn-josteinsingsta\\anaconda3\\lib\\site-packages (from wfdb) (2.21.0)\n",
      "Requirement already satisfied: nose>=1.3.7 in c:\\users\\bjorn-josteinsingsta\\anaconda3\\lib\\site-packages (from wfdb) (1.3.7)\n",
      "Requirement already satisfied: scipy>=0.19.0 in c:\\users\\bjorn-josteinsingsta\\anaconda3\\lib\\site-packages (from wfdb) (1.1.0)\n",
      "Requirement already satisfied: matplotlib>=1.5.1 in c:\\users\\bjorn-josteinsingsta\\anaconda3\\lib\\site-packages (from wfdb) (3.0.2)\n",
      "Requirement already satisfied: sklearn>=0.0 in c:\\users\\bjorn-josteinsingsta\\anaconda3\\lib\\site-packages (from wfdb) (0.0)\n",
      "Requirement already satisfied: python-dateutil>=2.5.0 in c:\\users\\bjorn-josteinsingsta\\anaconda3\\lib\\site-packages (from pandas>=0.19.1->wfdb) (2.7.5)\n",
      "Requirement already satisfied: pytz>=2011k in c:\\users\\bjorn-josteinsingsta\\anaconda3\\lib\\site-packages (from pandas>=0.19.1->wfdb) (2018.7)\n",
      "Requirement already satisfied: urllib3<1.25,>=1.21.1 in c:\\users\\bjorn-josteinsingsta\\anaconda3\\lib\\site-packages (from requests>=2.10.0->wfdb) (1.24.1)\n",
      "Requirement already satisfied: idna<2.9,>=2.5 in c:\\users\\bjorn-josteinsingsta\\anaconda3\\lib\\site-packages (from requests>=2.10.0->wfdb) (2.8)\n",
      "Requirement already satisfied: certifi>=2017.4.17 in c:\\users\\bjorn-josteinsingsta\\anaconda3\\lib\\site-packages (from requests>=2.10.0->wfdb) (2018.11.29)\n",
      "Requirement already satisfied: chardet<3.1.0,>=3.0.2 in c:\\users\\bjorn-josteinsingsta\\anaconda3\\lib\\site-packages (from requests>=2.10.0->wfdb) (3.0.4)\n",
      "Requirement already satisfied: cycler>=0.10 in c:\\users\\bjorn-josteinsingsta\\anaconda3\\lib\\site-packages (from matplotlib>=1.5.1->wfdb) (0.10.0)\n",
      "Requirement already satisfied: kiwisolver>=1.0.1 in c:\\users\\bjorn-josteinsingsta\\anaconda3\\lib\\site-packages (from matplotlib>=1.5.1->wfdb) (1.0.1)\n",
      "Requirement already satisfied: pyparsing!=2.0.4,!=2.1.2,!=2.1.6,>=2.0.1 in c:\\users\\bjorn-josteinsingsta\\anaconda3\\lib\\site-packages (from matplotlib>=1.5.1->wfdb) (2.3.0)\n",
      "Requirement already satisfied: scikit-learn in c:\\users\\bjorn-josteinsingsta\\anaconda3\\lib\\site-packages (from sklearn>=0.0->wfdb) (0.20.1)\n",
      "Requirement already satisfied: six>=1.5 in c:\\users\\bjorn-josteinsingsta\\anaconda3\\lib\\site-packages (from python-dateutil>=2.5.0->pandas>=0.19.1->wfdb) (1.12.0)\n",
      "Requirement already satisfied: setuptools in c:\\users\\bjorn-josteinsingsta\\anaconda3\\lib\\site-packages (from kiwisolver>=1.0.1->matplotlib>=1.5.1->wfdb) (40.6.3)\n"
     ]
    }
   ],
   "source": [
    "!pip install wfdb"
   ]
  },
  {
   "cell_type": "code",
   "execution_count": 60,
   "metadata": {},
   "outputs": [],
   "source": [
    "import wfdb\n",
    "from IPython.display import display\n",
    "import matplotlib.pyplot as plt\n",
    "%matplotlib inline\n",
    "import numpy as np\n",
    "import os\n",
    "import shutil\n",
    "import pandas as pd\n",
    "import matplotlib.pyplot as plt\n",
    "from IPython.display import IFrame\n",
    "from scipy.signal import find_peaks\n",
    "from scipy import signal\n"
   ]
  },
  {
   "cell_type": "markdown",
   "metadata": {},
   "source": [
    "# Seattle criterias"
   ]
  },
  {
   "cell_type": "code",
   "execution_count": 5,
   "metadata": {},
   "outputs": [
    {
     "data": {
      "text/html": [
       "\n",
       "        <iframe\n",
       "            width=\"900\"\n",
       "            height=\"500\"\n",
       "            src=\"Seattle Criteria.pdf\"\n",
       "            frameborder=\"0\"\n",
       "            allowfullscreen\n",
       "        ></iframe>\n",
       "        "
      ],
      "text/plain": [
       "<IPython.lib.display.IFrame at 0x227e9c4e4a8>"
      ]
     },
     "execution_count": 5,
     "metadata": {},
     "output_type": "execute_result"
    }
   ],
   "source": [
    "IFrame(\"Seattle Criteria.pdf\", width=900, height=500)"
   ]
  },
  {
   "cell_type": "markdown",
   "metadata": {},
   "source": [
    "### Overview of databases"
   ]
  },
  {
   "cell_type": "code",
   "execution_count": 6,
   "metadata": {},
   "outputs": [
    {
     "data": {
      "text/plain": [
       "[['aami-ec13', 'ANSI/AAMI EC13 Test Waveforms'],\n",
       " ['adfecgdb', 'Abdominal and Direct Fetal ECG Database'],\n",
       " ['afdb', 'MIT-BIH Atrial Fibrillation Database'],\n",
       " ['afpdb', 'PAF Prediction Challenge Database'],\n",
       " ['aftdb', 'AF Termination Challenge Database'],\n",
       " ['ahadb', 'AHA Database [sample excluded record]'],\n",
       " ['apnea-ecg', 'Apnea-ECG Database'],\n",
       " ['bidmc', 'BIDMC PPG and Respiration Dataset'],\n",
       " ['bpssrat', 'Blood Pressure in Salt-Sensitive Dahl Rats'],\n",
       " ['capslpdb', 'CAP Sleep Database'],\n",
       " ['cdb', 'MIT-BIH ECG Compression Test Database'],\n",
       " ['cebsdb', 'Combined measurement of ECG, Breathing and Seismocardiograms'],\n",
       " ['challenge/2009/test-set-a', 'Challenge 2009 Test Set A'],\n",
       " ['challenge/2009/test-set-b', 'Challenge 2009 Test Set B'],\n",
       " ['challenge/2010/set-a', 'Challenge 2010 Training Set A'],\n",
       " ['challenge/2010/set-b', 'Challenge 2010 Test Set B'],\n",
       " ['challenge/2010/set-c', 'Challenge 2010 Test Set C'],\n",
       " ['challenge/2011/set-a', 'Challenge 2011 Training Set A'],\n",
       " ['challenge/2011/set-b', 'Challenge 2011 Test Set B'],\n",
       " ['challenge/2011/sim', 'Challenge 2011 Pilot Set'],\n",
       " ['challenge/2013/set-a', 'Challenge 2013 Training Set A'],\n",
       " ['challenge/2013/set-b', 'Challenge 2013 Test Set B'],\n",
       " ['challenge/2014/set-p', 'Challenge 2014 Training Set'],\n",
       " ['challenge/2014/set-p2', 'Challenge 2014 Extended Training Set'],\n",
       " ['challenge/2015/training', 'Challenge 2015 Training Set'],\n",
       " ['challenge/2016/training-a', 'Challenge 2016 Training Set A'],\n",
       " ['challenge/2016/training-b', 'Challenge 2016 Training Set B'],\n",
       " ['challenge/2016/training-c', 'Challenge 2016 Training Set C'],\n",
       " ['challenge/2016/training-d', 'Challenge 2016 Training Set D'],\n",
       " ['challenge/2016/training-e', 'Challenge 2016 Training Set E'],\n",
       " ['challenge/2016/training-f', 'Challenge 2016 Training Set F'],\n",
       " ['challenge/2017/training', 'Challenge 2017 Training Set'],\n",
       " ['challenge/2018/test', 'Challenge 2018 Test Set'],\n",
       " ['challenge/2018/training', 'Challenge 2018 Training Set'],\n",
       " ['charisdb', 'CHARIS database'],\n",
       " ['chbmit', 'CHB-MIT Scalp EEG Database'],\n",
       " ['chf2db', 'Congestive Heart Failure RR Interval Database'],\n",
       " ['chfdb', 'BIDMC Congestive Heart Failure Database'],\n",
       " ['crisdb', 'CAST RR Interval Sub-Study Database'],\n",
       " ['ctu-uhb-ctgdb', 'CTU-CHB Intrapartum Cardiotocography Database'],\n",
       " ['cudb', 'CU Ventricular Tachyarrhythmia Database'],\n",
       " ['culm', 'Complex Upper-Limb Movements'],\n",
       " ['cves', 'Cerebral Vasoregulation in Elderly with Stroke'],\n",
       " ['drivedb', 'Stress Recognition in Automobile Drivers'],\n",
       " ['earh', 'Evoked Auditory Responses in Heading Impaired'],\n",
       " ['earndb', 'Evoked Auditory Responses in Normals'],\n",
       " ['ecgcipa', 'CiPA ECG Validation Study'],\n",
       " ['ecgdmmld',\n",
       "  'ECG Effects of Dofetilide, Moxifloxacin, Dofetilide+Mexiletine, Dofetilide+Lidocaine and Moxifloxacin+Diltiazem'],\n",
       " ['ecgiddb', 'ECG-ID Database'],\n",
       " ['ecgrdvq',\n",
       "  'ECG Effects of Ranolazine, Dofetilide, Verapamil, and Quinidine'],\n",
       " ['edb', 'European ST-T Database'],\n",
       " ['eegmat', 'EEG During Mental Arithmetic Tasks'],\n",
       " ['eegmmidb', 'EEG Motor Movement/Imagery Dataset'],\n",
       " ['ehgdb', 'Icelandic 16-electrode Electrohysterogram Database'],\n",
       " ['emgdb', 'Examples of Electromyograms'],\n",
       " ['erpbci', 'ERP-based Brain-Computer Interface recordings'],\n",
       " ['excluded', '... [Recordings excluded from the NSR DB]'],\n",
       " ['fantasia', 'Fantasia Database'],\n",
       " ['fecgsyndb', 'Fetal ECG Synthetic Database'],\n",
       " ['fpcgdb', 'Fetal PCG Database'],\n",
       " ['gait-maturation-db/data', 'Gait Maturation Database'],\n",
       " ['gaitdb', 'Gait in Aging and Disease Database'],\n",
       " ['gaitndd', 'Gait in Neurodegenerative Disease Database'],\n",
       " ['hbedb', 'Human Balance Evaluation Database'],\n",
       " ['iafdb', 'Intracardiac Atrial Fibrillation Database'],\n",
       " ['incartdb', 'St Petersburg INCART 12-lead Arrhythmia Database'],\n",
       " ['ltafdb', 'Long Term AF Database'],\n",
       " ['ltdb', 'MIT-BIH Long-Term ECG Database'],\n",
       " ['ltrsvp', 'EEG Signals from an RSVP Task'],\n",
       " ['ltstdb', 'Long Term ST Database'],\n",
       " ['macecgdb', 'Motion Artifact Contaminated ECG Database'],\n",
       " ['meditation/data', 'Heart Rate Oscillations during Meditation'],\n",
       " ['mghdb', 'MGH/MF Waveform Database'],\n",
       " ['mimic2cdb', 'MIMIC II Clinical Database Public Subset'],\n",
       " ['mimic2db', 'MIMIC II Waveform DB, v2 [deprecated, use v3]'],\n",
       " ['mimic2db/numerics',\n",
       "  'MIMIC II Waveform DB, v2 Numerics [deprecated, use v3]'],\n",
       " ['mimic2wdb/30', 'MIMIC II/III Waveform Database, part 0'],\n",
       " ['mimic2wdb/31', 'MIMIC II/III Waveform Database, part 1'],\n",
       " ['mimic2wdb/32', 'MIMIC II/III Waveform Database, part 2'],\n",
       " ['mimic2wdb/33', 'MIMIC II/III Waveform Database, part 3'],\n",
       " ['mimic2wdb/34', 'MIMIC II/III Waveform Database, part 4'],\n",
       " ['mimic2wdb/35', 'MIMIC II/III Waveform Database, part 5'],\n",
       " ['mimic2wdb/36', 'MIMIC II/III Waveform Database, part 6'],\n",
       " ['mimic2wdb/37', 'MIMIC II/III Waveform Database, part 7'],\n",
       " ['mimic2wdb/38', 'MIMIC II/III Waveform Database, part 8'],\n",
       " ['mimic2wdb/39', 'MIMIC II/III Waveform Database, part 9'],\n",
       " ['mimic2wdb/matched', 'MIMIC II Waveform Database Matched Subset'],\n",
       " ['mimic3wdb/matched', 'MIMIC III Waveform Database Matched Subset'],\n",
       " ['mimicdb', 'MIMIC Database'],\n",
       " ['mimicdb/numerics', 'MIMIC Database Numerics'],\n",
       " ['mitdb', 'MIT-BIH Arrhythmia Database'],\n",
       " ['mmgdb', 'MMG Database'],\n",
       " ['motion-artifact', 'Motion Artifact Contaminated fNIRS and EEG Data'],\n",
       " ['mssvepdb', 'MAMEM SSVEP Database'],\n",
       " ['mvtdb/data', 'Spontaneous Ventricular Tachyarrhythmia Database'],\n",
       " ['nifeadb', 'The Non-Invasive Fetal ECG Arrhythmia Database'],\n",
       " ['nifecgdb', 'Non-Invasive Fetal ECG Database'],\n",
       " ['noneeg', 'Non-EEG Dataset for Assessment of Neurological Status'],\n",
       " ['nsr2db', 'Normal Sinus Rhythm RR Interval Database'],\n",
       " ['nsrdb', 'MIT-BIH Normal Sinus Rhythm Database'],\n",
       " ['nstdb', 'MIT-BIH Noise Stress Test Database'],\n",
       " ['ob1db', 'OB-1 Fetal ECG Database [sample record]'],\n",
       " ['osv', 'Pattern Analysis of Oxygen Saturation Variability'],\n",
       " ['picsdb', 'Preterm Infant Cardio-Respiratory Signals Database'],\n",
       " ['prcp', 'Physiologic Response to Changes in Posture'],\n",
       " ['ptbdb', 'PTB Diagnostic ECG Database'],\n",
       " ['pwave', 'MIT-BIH Arrhythmia Database P-Wave Annotations'],\n",
       " ['qtdb', 'QT Database'],\n",
       " ['rvmh1', 'Response to Valsalva Maneuver in Humans'],\n",
       " ['sddb', 'Sudden Cardiac Death Holter Database'],\n",
       " ['sgamp', 'Squid Giant Axon Membrane Potential'],\n",
       " ['shareedb',\n",
       "  'Smart Health for Assessing the Risk of Events via ECG Database'],\n",
       " ['shhpsgdb', 'Sleep Heart Health Study PSG Database [sample record]'],\n",
       " ['simfpcgdb', 'Simulated Fetal Phonocardiograms'],\n",
       " ['sleep-edf', 'Sleep-EDF Database, v1 [deprecated, use sleep-edfx]'],\n",
       " ['sleep-edfx', 'Sleep-EDF Database [Expanded]'],\n",
       " ['sleepbrl', 'Sleep Bioradiolocation Database'],\n",
       " ['slpdb', 'MIT-BIH Polysomnographic Database'],\n",
       " ['staffiii', 'STAFF III Database'],\n",
       " ['stdb', 'MIT-BIH ST Change Database'],\n",
       " ['sufhsdb', 'Shiraz University Fetal Heart Sounds Database'],\n",
       " ['svdb', 'MIT-BIH Supraventricular Arrhythmia Database'],\n",
       " ['szdb', 'Post-Ictal Heart Rate Oscillations in Partial Epilepsy'],\n",
       " ['taichidb', 'Tai Chi, Physiological Complexity, and Healthy Aging - Gait'],\n",
       " ['tpehgdb', 'Term-Preterm EHG Database'],\n",
       " ['tpehgt', 'Term-Preterm EHG DataSet with Tocogram (TPEHGT DS)'],\n",
       " ['twadb', 'T-Wave Alternans Challenge Database'],\n",
       " ['ucddb', 'UCD Sleep Apnea Database'],\n",
       " ['unicaprop', 'UniCA ElectroTastegram Database (PROP)'],\n",
       " ['vfdb', 'MIT-BIH Malignant Ventricular Ectopy Database'],\n",
       " ['videopulse', 'Video Pulse Signals in Stationary and Motion Conditions'],\n",
       " ['voiced', 'VOice ICar fEDerico II Database'],\n",
       " ['wrist', 'Wrist PPG During Exercise']]"
      ]
     },
     "metadata": {},
     "output_type": "display_data"
    }
   ],
   "source": [
    "dbs = wfdb.get_dbs()\n",
    "display(dbs)"
   ]
  },
  {
   "cell_type": "code",
   "execution_count": 7,
   "metadata": {},
   "outputs": [
    {
     "name": "stdout",
     "output_type": "stream",
     "text": [
      "Downloading files...\n",
      "Finished downloading files\n"
     ]
    }
   ],
   "source": [
    "wfdb.dl_database('afdb', 'data/afdb')"
   ]
  },
  {
   "cell_type": "code",
   "execution_count": 13,
   "metadata": {},
   "outputs": [],
   "source": [
    "signals, fields = wfdb.rdsamp('data/nsrdb/16265', sampfrom=800)"
   ]
  },
  {
   "cell_type": "code",
   "execution_count": 14,
   "metadata": {},
   "outputs": [
    {
     "data": {
      "text/plain": [
       "{'fs': 128,\n",
       " 'sig_len': 11730144,\n",
       " 'n_sig': 2,\n",
       " 'base_date': None,\n",
       " 'base_time': datetime.time(8, 4, 6, 250000),\n",
       " 'units': ['mV', 'mV'],\n",
       " 'sig_name': ['ECG1', 'ECG2'],\n",
       " 'comments': ['32 M']}"
      ]
     },
     "execution_count": 14,
     "metadata": {},
     "output_type": "execute_result"
    }
   ],
   "source": [
    "fields"
   ]
  },
  {
   "cell_type": "code",
   "execution_count": 15,
   "metadata": {},
   "outputs": [],
   "source": [
    "ecg_df=pd.DataFrame(signals)"
   ]
  },
  {
   "cell_type": "code",
   "execution_count": 21,
   "metadata": {},
   "outputs": [
    {
     "data": {
      "text/plain": [
       "1280"
      ]
     },
     "execution_count": 21,
     "metadata": {},
     "output_type": "execute_result"
    }
   ],
   "source": [
    "# 10 sec sample\n",
    "time = 128 * 10\n",
    "time"
   ]
  },
  {
   "cell_type": "code",
   "execution_count": 22,
   "metadata": {},
   "outputs": [],
   "source": [
    "TenSecEcg=ecg_df[0].iloc[0:time]"
   ]
  },
  {
   "cell_type": "code",
   "execution_count": 23,
   "metadata": {},
   "outputs": [
    {
     "data": {
      "text/plain": [
       "[<matplotlib.lines.Line2D at 0x22780030ac8>]"
      ]
     },
     "execution_count": 23,
     "metadata": {},
     "output_type": "execute_result"
    },
    {
     "data": {
      "image/png": "[encoded data removed]",
      "text/plain": [
       "<Figure size 432x288 with 1 Axes>"
      ]
     },
     "metadata": {
      "needs_background": "light"
     },
     "output_type": "display_data"
    }
   ],
   "source": [
    "plt.plot(TenSecEcg)"
   ]
  },
  {
   "cell_type": "markdown",
   "metadata": {},
   "source": [
    "# Normal ECG findings in athletes"
   ]
  },
  {
   "cell_type": "markdown",
   "metadata": {},
   "source": [
    "### SInus bradycardia (>30bpm)"
   ]
  },
  {
   "cell_type": "markdown",
   "metadata": {},
   "source": [
    "Lorem ipsum Lorem ipsum Lorem ipsum"
   ]
  },
  {
   "cell_type": "markdown",
   "metadata": {},
   "source": [
    "### Example - normal sinus rythm (>60bpm)"
   ]
  },
  {
   "cell_type": "code",
   "execution_count": 24,
   "metadata": {},
   "outputs": [
    {
     "data": {
      "text/plain": [
       "[<matplotlib.lines.Line2D at 0x227800d0e80>]"
      ]
     },
     "execution_count": 24,
     "metadata": {},
     "output_type": "execute_result"
    },
    {
     "data": {
      "image/png": "[encoded data removed]",
      "text/plain": [
       "<Figure size 432x288 with 1 Axes>"
      ]
     },
     "metadata": {
      "needs_background": "light"
     },
     "output_type": "display_data"
    }
   ],
   "source": [
    "plt.plot(TenSecEcg)"
   ]
  },
  {
   "cell_type": "code",
   "execution_count": 25,
   "metadata": {},
   "outputs": [
    {
     "data": {
      "image/png": "[encoded data removed]",
      "text/plain": [
       "<Figure size 432x288 with 1 Axes>"
      ]
     },
     "metadata": {
      "needs_background": "light"
     },
     "output_type": "display_data"
    }
   ],
   "source": [
    "peaks, _=find_peaks(TenSecEcg, height=0.5)\n",
    "# bør nok bruke \"distance\"-parameteret også dersom jeg skal bruke denne funksjonen som R-detektor\n",
    "# det vil bidra til mindre sårbarhet for forstyrrelser\n",
    "plt.plot(TenSecEcg)\n",
    "plt.plot(peaks, TenSecEcg[peaks], \"s\")\n",
    "#plt.plot(np.zeros_like(smal_ecg), \"--\", color=\"gray\")\n",
    "plt.show()"
   ]
  },
  {
   "cell_type": "code",
   "execution_count": 28,
   "metadata": {},
   "outputs": [
    {
     "name": "stdout",
     "output_type": "stream",
     "text": [
      "35\n",
      "93.65853658536585\n",
      "117\n",
      "94.81481481481481\n",
      "198\n",
      "97.21518987341773\n",
      "277\n",
      "96.0\n",
      "357\n",
      "93.65853658536585\n",
      "439\n",
      "92.53012048192771\n",
      "522\n",
      "93.65853658536585\n",
      "604\n",
      "94.81481481481481\n",
      "685\n",
      "94.81481481481481\n",
      "766\n",
      "97.21518987341773\n",
      "845\n",
      "96.0\n",
      "925\n",
      "97.21518987341773\n",
      "1004\n",
      "96.0\n",
      "1084\n",
      "98.46153846153847\n",
      "1162\n",
      "98.46153846153847\n",
      "1240\n"
     ]
    },
    {
     "ename": "IndexError",
     "evalue": "index 16 is out of bounds for axis 0 with size 16",
     "output_type": "error",
     "traceback": [
      "\u001b[1;31m---------------------------------------------------------------------------\u001b[0m",
      "\u001b[1;31mIndexError\u001b[0m                                Traceback (most recent call last)",
      "\u001b[1;32m<ipython-input-28-e4b6f44941ea>\u001b[0m in \u001b[0;36m<module>\u001b[1;34m\u001b[0m\n\u001b[0;32m      4\u001b[0m \u001b[1;32mfor\u001b[0m \u001b[0mindex\u001b[0m\u001b[1;33m,\u001b[0m \u001b[0mitem\u001b[0m \u001b[1;32min\u001b[0m \u001b[0menumerate\u001b[0m\u001b[1;33m(\u001b[0m\u001b[0mpeaks\u001b[0m\u001b[1;33m)\u001b[0m\u001b[1;33m:\u001b[0m\u001b[1;33m\u001b[0m\u001b[1;33m\u001b[0m\u001b[0m\n\u001b[0;32m      5\u001b[0m     \u001b[0mprint\u001b[0m\u001b[1;33m(\u001b[0m\u001b[0mpeaks\u001b[0m\u001b[1;33m[\u001b[0m\u001b[0mindex\u001b[0m\u001b[1;33m]\u001b[0m\u001b[1;33m)\u001b[0m\u001b[1;33m\u001b[0m\u001b[1;33m\u001b[0m\u001b[0m\n\u001b[1;32m----> 6\u001b[1;33m     \u001b[0mprint\u001b[0m\u001b[1;33m(\u001b[0m\u001b[1;36m60\u001b[0m\u001b[1;33m/\u001b[0m\u001b[1;33m(\u001b[0m\u001b[1;33m(\u001b[0m\u001b[0mpeaks\u001b[0m\u001b[1;33m[\u001b[0m\u001b[0mindex\u001b[0m\u001b[1;33m+\u001b[0m\u001b[1;36m1\u001b[0m\u001b[1;33m]\u001b[0m\u001b[1;33m-\u001b[0m\u001b[0mpeaks\u001b[0m\u001b[1;33m[\u001b[0m\u001b[0mindex\u001b[0m\u001b[1;33m]\u001b[0m\u001b[1;33m)\u001b[0m\u001b[1;33m/\u001b[0m\u001b[0mrecord\u001b[0m\u001b[1;33m)\u001b[0m\u001b[1;33m)\u001b[0m\u001b[1;33m\u001b[0m\u001b[1;33m\u001b[0m\u001b[0m\n\u001b[0m\u001b[0;32m      7\u001b[0m     \u001b[0mHeartRate\u001b[0m\u001b[1;33m.\u001b[0m\u001b[0mappend\u001b[0m\u001b[1;33m(\u001b[0m\u001b[1;36m60\u001b[0m\u001b[1;33m/\u001b[0m\u001b[1;33m(\u001b[0m\u001b[1;33m(\u001b[0m\u001b[0mpeaks\u001b[0m\u001b[1;33m[\u001b[0m\u001b[0mindex\u001b[0m\u001b[1;33m+\u001b[0m\u001b[1;36m1\u001b[0m\u001b[1;33m]\u001b[0m\u001b[1;33m-\u001b[0m\u001b[0mpeaks\u001b[0m\u001b[1;33m[\u001b[0m\u001b[0mindex\u001b[0m\u001b[1;33m]\u001b[0m\u001b[1;33m)\u001b[0m\u001b[1;33m/\u001b[0m\u001b[0mrecord\u001b[0m\u001b[1;33m)\u001b[0m\u001b[1;33m)\u001b[0m\u001b[1;33m\u001b[0m\u001b[1;33m\u001b[0m\u001b[0m\n\u001b[0;32m      8\u001b[0m     \u001b[0mTimeBetweenBeat\u001b[0m\u001b[1;33m.\u001b[0m\u001b[0mappend\u001b[0m\u001b[1;33m(\u001b[0m\u001b[1;33m(\u001b[0m\u001b[0mpeaks\u001b[0m\u001b[1;33m[\u001b[0m\u001b[0mindex\u001b[0m\u001b[1;33m+\u001b[0m\u001b[1;36m1\u001b[0m\u001b[1;33m]\u001b[0m\u001b[1;33m-\u001b[0m\u001b[0mpeaks\u001b[0m\u001b[1;33m[\u001b[0m\u001b[0mindex\u001b[0m\u001b[1;33m]\u001b[0m\u001b[1;33m)\u001b[0m\u001b[1;33m/\u001b[0m\u001b[0mrecord\u001b[0m\u001b[1;33m)\u001b[0m\u001b[1;33m\u001b[0m\u001b[1;33m\u001b[0m\u001b[0m\n",
      "\u001b[1;31mIndexError\u001b[0m: index 16 is out of bounds for axis 0 with size 16"
     ]
    }
   ],
   "source": [
    "HeartRate = []\n",
    "TimeBetweenBeat= []\n",
    "record=128\n",
    "for index, item in enumerate(peaks):\n",
    "    print(peaks[index])\n",
    "    print(60/((peaks[index+1]-peaks[index])/record))\n",
    "    HeartRate.append(60/((peaks[index+1]-peaks[index])/record))\n",
    "    TimeBetweenBeat.append((peaks[index+1]-peaks[index])/record)\n",
    "    \n",
    "# Dette vil gi en error i siste iterasjon"
   ]
  },
  {
   "cell_type": "code",
   "execution_count": 92,
   "metadata": {},
   "outputs": [
    {
     "name": "stdout",
     "output_type": "stream",
     "text": [
      "average heart rate is: 95.63458808172001 at rest. The pasient shows no signs of bradycardia. This heart rate looks ok \n"
     ]
    }
   ],
   "source": [
    "\n",
    "if np.mean(HeartRate)<30:\n",
    "    print('average heart rate is:', np.mean(HeartRate),'at rest. The pasient has too low heart rate. This could be dangerous')\n",
    "    \n",
    "elif np.mean(HeartRate)<60:\n",
    "    print('average heart rate is:', np.mean(HeartRate),'at rest. The pasient has low heart rate, but it could be ok if he/she is an athlete')\n",
    "else:\n",
    "    print('average heart rate is:', np.mean(HeartRate),'at rest. The pasient shows no signs of bradycardia. This heart rate looks ok ')"
   ]
  },
  {
   "cell_type": "markdown",
   "metadata": {},
   "source": [
    "### HRV - Heart rate variability"
   ]
  },
  {
   "cell_type": "code",
   "execution_count": 30,
   "metadata": {},
   "outputs": [
    {
     "data": {
      "text/plain": [
       "[<matplotlib.lines.Line2D at 0x227801f05f8>]"
      ]
     },
     "execution_count": 30,
     "metadata": {},
     "output_type": "execute_result"
    },
    {
     "data": {
      "image/png": "[encoded data removed]",
      "text/plain": [
       "<Figure size 432x288 with 1 Axes>"
      ]
     },
     "metadata": {
      "needs_background": "light"
     },
     "output_type": "display_data"
    }
   ],
   "source": [
    "plt.plot(TimeBetweenBeat,\"s\")"
   ]
  },
  {
   "cell_type": "code",
   "execution_count": 31,
   "metadata": {},
   "outputs": [],
   "source": [
    "# ikke ferdig"
   ]
  },
  {
   "cell_type": "markdown",
   "metadata": {},
   "source": [
    "### Example - abnormal (too slow for non-athletes) sinus rythm (30-60 bpm)"
   ]
  },
  {
   "cell_type": "code",
   "execution_count": 32,
   "metadata": {},
   "outputs": [
    {
     "name": "stdout",
     "output_type": "stream",
     "text": [
      "Downloading files...\n",
      "Finished downloading files\n"
     ]
    }
   ],
   "source": [
    "wfdb.dl_database('mitdb', 'data/mitdb')"
   ]
  },
  {
   "cell_type": "code",
   "execution_count": 33,
   "metadata": {},
   "outputs": [],
   "source": [
    "signals, fields = wfdb.rdsamp('data/mitdb/117', sampfrom=0)"
   ]
  },
  {
   "cell_type": "code",
   "execution_count": 34,
   "metadata": {},
   "outputs": [
    {
     "data": {
      "text/plain": [
       "{'fs': 360,\n",
       " 'sig_len': 650000,\n",
       " 'n_sig': 2,\n",
       " 'base_date': None,\n",
       " 'base_time': None,\n",
       " 'units': ['mV', 'mV'],\n",
       " 'sig_name': ['MLII', 'V2'],\n",
       " 'comments': ['69 M 950 654 x2', 'None']}"
      ]
     },
     "execution_count": 34,
     "metadata": {},
     "output_type": "execute_result"
    }
   ],
   "source": [
    "fields"
   ]
  },
  {
   "cell_type": "code",
   "execution_count": 36,
   "metadata": {},
   "outputs": [
    {
     "data": {
      "text/plain": [
       "3600"
      ]
     },
     "execution_count": 36,
     "metadata": {},
     "output_type": "execute_result"
    }
   ],
   "source": [
    "# 10 sec sample\n",
    "time = 360 * 10\n",
    "time"
   ]
  },
  {
   "cell_type": "code",
   "execution_count": 37,
   "metadata": {},
   "outputs": [],
   "source": [
    "TenSecSample=pd.DataFrame(signals)"
   ]
  },
  {
   "cell_type": "code",
   "execution_count": 38,
   "metadata": {},
   "outputs": [
    {
     "data": {
      "text/html": [
       "<div>\n",
       "<style scoped>\n",
       "    .dataframe tbody tr th:only-of-type {\n",
       "        vertical-align: middle;\n",
       "    }\n",
       "\n",
       "    .dataframe tbody tr th {\n",
       "        vertical-align: top;\n",
       "    }\n",
       "\n",
       "    .dataframe thead th {\n",
       "        text-align: right;\n",
       "    }\n",
       "</style>\n",
       "<table border=\"1\" class=\"dataframe\">\n",
       "  <thead>\n",
       "    <tr style=\"text-align: right;\">\n",
       "      <th></th>\n",
       "      <th>0</th>\n",
       "      <th>1</th>\n",
       "    </tr>\n",
       "  </thead>\n",
       "  <tbody>\n",
       "    <tr>\n",
       "      <th>0</th>\n",
       "      <td>-0.925</td>\n",
       "      <td>-0.47</td>\n",
       "    </tr>\n",
       "    <tr>\n",
       "      <th>1</th>\n",
       "      <td>-0.925</td>\n",
       "      <td>-0.47</td>\n",
       "    </tr>\n",
       "    <tr>\n",
       "      <th>2</th>\n",
       "      <td>-0.925</td>\n",
       "      <td>-0.47</td>\n",
       "    </tr>\n",
       "    <tr>\n",
       "      <th>3</th>\n",
       "      <td>-0.925</td>\n",
       "      <td>-0.47</td>\n",
       "    </tr>\n",
       "    <tr>\n",
       "      <th>4</th>\n",
       "      <td>-0.925</td>\n",
       "      <td>-0.47</td>\n",
       "    </tr>\n",
       "  </tbody>\n",
       "</table>\n",
       "</div>"
      ],
      "text/plain": [
       "       0     1\n",
       "0 -0.925 -0.47\n",
       "1 -0.925 -0.47\n",
       "2 -0.925 -0.47\n",
       "3 -0.925 -0.47\n",
       "4 -0.925 -0.47"
      ]
     },
     "execution_count": 38,
     "metadata": {},
     "output_type": "execute_result"
    }
   ],
   "source": [
    "TenSecSample.head()"
   ]
  },
  {
   "cell_type": "code",
   "execution_count": 39,
   "metadata": {},
   "outputs": [],
   "source": [
    "TenSecSample.columns = ['ML II', 'V2']"
   ]
  },
  {
   "cell_type": "code",
   "execution_count": 40,
   "metadata": {},
   "outputs": [
    {
     "data": {
      "text/html": [
       "<div>\n",
       "<style scoped>\n",
       "    .dataframe tbody tr th:only-of-type {\n",
       "        vertical-align: middle;\n",
       "    }\n",
       "\n",
       "    .dataframe tbody tr th {\n",
       "        vertical-align: top;\n",
       "    }\n",
       "\n",
       "    .dataframe thead th {\n",
       "        text-align: right;\n",
       "    }\n",
       "</style>\n",
       "<table border=\"1\" class=\"dataframe\">\n",
       "  <thead>\n",
       "    <tr style=\"text-align: right;\">\n",
       "      <th></th>\n",
       "      <th>ML II</th>\n",
       "      <th>V2</th>\n",
       "    </tr>\n",
       "  </thead>\n",
       "  <tbody>\n",
       "    <tr>\n",
       "      <th>0</th>\n",
       "      <td>-0.925</td>\n",
       "      <td>-0.47</td>\n",
       "    </tr>\n",
       "    <tr>\n",
       "      <th>1</th>\n",
       "      <td>-0.925</td>\n",
       "      <td>-0.47</td>\n",
       "    </tr>\n",
       "    <tr>\n",
       "      <th>2</th>\n",
       "      <td>-0.925</td>\n",
       "      <td>-0.47</td>\n",
       "    </tr>\n",
       "    <tr>\n",
       "      <th>3</th>\n",
       "      <td>-0.925</td>\n",
       "      <td>-0.47</td>\n",
       "    </tr>\n",
       "    <tr>\n",
       "      <th>4</th>\n",
       "      <td>-0.925</td>\n",
       "      <td>-0.47</td>\n",
       "    </tr>\n",
       "  </tbody>\n",
       "</table>\n",
       "</div>"
      ],
      "text/plain": [
       "   ML II    V2\n",
       "0 -0.925 -0.47\n",
       "1 -0.925 -0.47\n",
       "2 -0.925 -0.47\n",
       "3 -0.925 -0.47\n",
       "4 -0.925 -0.47"
      ]
     },
     "execution_count": 40,
     "metadata": {},
     "output_type": "execute_result"
    }
   ],
   "source": [
    "TenSecSample.head()"
   ]
  },
  {
   "cell_type": "code",
   "execution_count": 41,
   "metadata": {},
   "outputs": [],
   "source": [
    "TenSecSample=TenSecSample['ML II'].iloc[0:time]"
   ]
  },
  {
   "cell_type": "code",
   "execution_count": 42,
   "metadata": {},
   "outputs": [
    {
     "data": {
      "text/plain": [
       "[<matplotlib.lines.Line2D at 0x227802a5cc0>]"
      ]
     },
     "execution_count": 42,
     "metadata": {},
     "output_type": "execute_result"
    },
    {
     "data": {
      "image/png": "[encoded data removed]",
      "text/plain": [
       "<Figure size 432x288 with 1 Axes>"
      ]
     },
     "metadata": {
      "needs_background": "light"
     },
     "output_type": "display_data"
    }
   ],
   "source": [
    "plt.plot(TenSecSample)"
   ]
  },
  {
   "cell_type": "code",
   "execution_count": 88,
   "metadata": {},
   "outputs": [
    {
     "data": {
      "image/png": "[encoded data removed]",
      "text/plain": [
       "<Figure size 432x288 with 1 Axes>"
      ]
     },
     "metadata": {
      "needs_background": "light"
     },
     "output_type": "display_data"
    }
   ],
   "source": [
    "peaks, _=find_peaks(TenSecSample, height=-1, prominence=1)\n",
    "# prominence = fremtredende - Et nøkkelparameter for å selektere ut R-en i QRS-komplekset og neglisjere den høye S-kurven\n",
    "\n",
    "# bør nok bruke \"distance\"-parameteret også dersom jeg skal bruke denne funksjonen som R-detektor\n",
    "# det vil bidra til mindre sårbarhet for forstyrrelser\n",
    "plt.plot(TenSecSample)\n",
    "plt.plot(peaks, TenSecSample[peaks], \"s\")\n",
    "#plt.plot(np.zeros_like(smal_ecg), \"--\", color=\"gray\")\n",
    "plt.show()"
   ]
  },
  {
   "cell_type": "code",
   "execution_count": 93,
   "metadata": {},
   "outputs": [
    {
     "name": "stdout",
     "output_type": "stream",
     "text": [
      "180\n",
      "52.6829268292683\n",
      "590\n",
      "53.20197044334975\n",
      "996\n",
      "53.333333333333336\n",
      "1401\n",
      "50.8235294117647\n",
      "1826\n",
      "52.30024213075061\n",
      "2239\n",
      "50.349650349650354\n",
      "2668\n",
      "50.467289719626166\n",
      "3096\n",
      "50.8235294117647\n",
      "3521\n"
     ]
    },
    {
     "ename": "IndexError",
     "evalue": "index 9 is out of bounds for axis 0 with size 9",
     "output_type": "error",
     "traceback": [
      "\u001b[1;31m---------------------------------------------------------------------------\u001b[0m",
      "\u001b[1;31mIndexError\u001b[0m                                Traceback (most recent call last)",
      "\u001b[1;32m<ipython-input-93-7ac3e1595d7d>\u001b[0m in \u001b[0;36m<module>\u001b[1;34m\u001b[0m\n\u001b[0;32m      4\u001b[0m \u001b[1;32mfor\u001b[0m \u001b[0mindex\u001b[0m\u001b[1;33m,\u001b[0m \u001b[0mitem\u001b[0m \u001b[1;32min\u001b[0m \u001b[0menumerate\u001b[0m\u001b[1;33m(\u001b[0m\u001b[0mpeaks\u001b[0m\u001b[1;33m)\u001b[0m\u001b[1;33m:\u001b[0m\u001b[1;33m\u001b[0m\u001b[1;33m\u001b[0m\u001b[0m\n\u001b[0;32m      5\u001b[0m     \u001b[0mprint\u001b[0m\u001b[1;33m(\u001b[0m\u001b[0mpeaks\u001b[0m\u001b[1;33m[\u001b[0m\u001b[0mindex\u001b[0m\u001b[1;33m]\u001b[0m\u001b[1;33m)\u001b[0m\u001b[1;33m\u001b[0m\u001b[1;33m\u001b[0m\u001b[0m\n\u001b[1;32m----> 6\u001b[1;33m     \u001b[0mprint\u001b[0m\u001b[1;33m(\u001b[0m\u001b[1;36m60\u001b[0m\u001b[1;33m/\u001b[0m\u001b[1;33m(\u001b[0m\u001b[1;33m(\u001b[0m\u001b[0mpeaks\u001b[0m\u001b[1;33m[\u001b[0m\u001b[0mindex\u001b[0m\u001b[1;33m+\u001b[0m\u001b[1;36m1\u001b[0m\u001b[1;33m]\u001b[0m\u001b[1;33m-\u001b[0m\u001b[0mpeaks\u001b[0m\u001b[1;33m[\u001b[0m\u001b[0mindex\u001b[0m\u001b[1;33m]\u001b[0m\u001b[1;33m)\u001b[0m\u001b[1;33m/\u001b[0m\u001b[0mrecord\u001b[0m\u001b[1;33m)\u001b[0m\u001b[1;33m)\u001b[0m\u001b[1;33m\u001b[0m\u001b[1;33m\u001b[0m\u001b[0m\n\u001b[0m\u001b[0;32m      7\u001b[0m     \u001b[0mHeartRate\u001b[0m\u001b[1;33m.\u001b[0m\u001b[0mappend\u001b[0m\u001b[1;33m(\u001b[0m\u001b[1;36m60\u001b[0m\u001b[1;33m/\u001b[0m\u001b[1;33m(\u001b[0m\u001b[1;33m(\u001b[0m\u001b[0mpeaks\u001b[0m\u001b[1;33m[\u001b[0m\u001b[0mindex\u001b[0m\u001b[1;33m+\u001b[0m\u001b[1;36m1\u001b[0m\u001b[1;33m]\u001b[0m\u001b[1;33m-\u001b[0m\u001b[0mpeaks\u001b[0m\u001b[1;33m[\u001b[0m\u001b[0mindex\u001b[0m\u001b[1;33m]\u001b[0m\u001b[1;33m)\u001b[0m\u001b[1;33m/\u001b[0m\u001b[0mrecord\u001b[0m\u001b[1;33m)\u001b[0m\u001b[1;33m)\u001b[0m\u001b[1;33m\u001b[0m\u001b[1;33m\u001b[0m\u001b[0m\n\u001b[0;32m      8\u001b[0m     \u001b[0mTimeBetweenBeat\u001b[0m\u001b[1;33m.\u001b[0m\u001b[0mappend\u001b[0m\u001b[1;33m(\u001b[0m\u001b[1;33m(\u001b[0m\u001b[0mpeaks\u001b[0m\u001b[1;33m[\u001b[0m\u001b[0mindex\u001b[0m\u001b[1;33m+\u001b[0m\u001b[1;36m1\u001b[0m\u001b[1;33m]\u001b[0m\u001b[1;33m-\u001b[0m\u001b[0mpeaks\u001b[0m\u001b[1;33m[\u001b[0m\u001b[0mindex\u001b[0m\u001b[1;33m]\u001b[0m\u001b[1;33m)\u001b[0m\u001b[1;33m/\u001b[0m\u001b[0mrecord\u001b[0m\u001b[1;33m)\u001b[0m\u001b[1;33m\u001b[0m\u001b[1;33m\u001b[0m\u001b[0m\n",
      "\u001b[1;31mIndexError\u001b[0m: index 9 is out of bounds for axis 0 with size 9"
     ]
    }
   ],
   "source": [
    "HeartRate = []\n",
    "TimeBetweenBeat= []\n",
    "record=360\n",
    "for index, item in enumerate(peaks):\n",
    "    print(peaks[index])\n",
    "    print(60/((peaks[index+1]-peaks[index])/record))\n",
    "    HeartRate.append(60/((peaks[index+1]-peaks[index])/record))\n",
    "    TimeBetweenBeat.append((peaks[index+1]-peaks[index])/record)"
   ]
  },
  {
   "cell_type": "code",
   "execution_count": 94,
   "metadata": {},
   "outputs": [
    {
     "name": "stdout",
     "output_type": "stream",
     "text": [
      "average heart rate is: 51.74780895368849 at rest. The pasient has low heart rate, but it could be ok if he/she is an athlete\n"
     ]
    }
   ],
   "source": [
    "if np.mean(HeartRate)<30:\n",
    "    print('average heart rate is:', np.mean(HeartRate),'at rest. The pasient has too low heart rate. This could be dangerous')\n",
    "    \n",
    "elif np.mean(HeartRate)<60:\n",
    "    print('average heart rate is:', np.mean(HeartRate),'at rest. The pasient has low heart rate, but it could be ok if he/she is an athlete')\n",
    "else:\n",
    "    print('average heart rate is:', np.mean(HeartRate),'at rest. The pasient shows no signs of bradycardia. This heart rate looks ok ')"
   ]
  },
  {
   "cell_type": "code",
   "execution_count": null,
   "metadata": {},
   "outputs": [],
   "source": []
  }
 ],
 "metadata": {
  "kernelspec": {
   "display_name": "Python 3",
   "language": "python",
   "name": "python3"
  },
  "language_info": {
   "codemirror_mode": {
    "name": "ipython",
    "version": 3
   },
   "file_extension": ".py",
   "mimetype": "text/x-python",
   "name": "python",
   "nbconvert_exporter": "python",
   "pygments_lexer": "ipython3",
   "version": "3.7.1"
  }
 },
 "nbformat": 4,
 "nbformat_minor": 2
}
